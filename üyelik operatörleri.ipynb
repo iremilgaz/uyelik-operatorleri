{
 "cells": [
  {
   "cell_type": "code",
   "execution_count": 6,
   "id": "4f590c86",
   "metadata": {},
   "outputs": [
    {
     "name": "stdout",
     "output_type": "stream",
     "text": [
      "bir meyve ismi girin:armut\n",
      "listede var\n"
     ]
    }
   ],
   "source": [
    "meyveler = [\"elma\", \"armut\", \"çilek\", \"kiraz\"]\n",
    "meyve = input(\"bir meyve ismi girin:\")\n",
    "if meyve in meyveler:\n",
    "    print(\"listede var\")\n",
    "else:\n",
    "    print(\"listede yok\")"
   ]
  },
  {
   "cell_type": "code",
   "execution_count": 7,
   "id": "654407cb",
   "metadata": {},
   "outputs": [
    {
     "name": "stdout",
     "output_type": "stream",
     "text": [
      "bir karakter girin:c\n",
      "bu karakter parolada yok\n"
     ]
    }
   ],
   "source": [
    "#görev2\n",
    "parola = \"PyThOn123\"\n",
    "karakter = input(\"bir karakter girin:\")\n",
    "if karakter not in parola:\n",
    "    print(\"bu karakter parolada yok\")"
   ]
  },
  {
   "cell_type": "code",
   "execution_count": null,
   "id": "f6610417",
   "metadata": {},
   "outputs": [],
   "source": []
  }
 ],
 "metadata": {
  "kernelspec": {
   "display_name": "Python 3 (ipykernel)",
   "language": "python",
   "name": "python3"
  },
  "language_info": {
   "codemirror_mode": {
    "name": "ipython",
    "version": 3
   },
   "file_extension": ".py",
   "mimetype": "text/x-python",
   "name": "python",
   "nbconvert_exporter": "python",
   "pygments_lexer": "ipython3",
   "version": "3.9.12"
  }
 },
 "nbformat": 4,
 "nbformat_minor": 5
}
